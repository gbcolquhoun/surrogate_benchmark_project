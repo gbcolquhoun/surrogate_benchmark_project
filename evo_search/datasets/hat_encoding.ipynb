{
 "cells": [
  {
   "cell_type": "code",
   "execution_count": null,
   "metadata": {},
   "outputs": [
    {
     "name": "stdout",
     "output_type": "stream",
     "text": [
      "Design Parameter Domains:\n",
      "===========================\n",
      "encoder_embed_dim: Length: 2 [np.int64(512), np.int64(640)]\n",
      "encoder_layer_num: Length: 1 [np.int64(6)]\n",
      "encoder_ffn_embed_dim_avg: Length: 28 [np.float64(512.0), np.float64(597.3333333333334), np.float64(682.6666666666666), np.float64(768.0), np.float64(853.3333333333334), np.float64(938.6666666666666), np.float64(1024.0), np.float64(1109.3333333333333), np.float64(1194.6666666666667), np.float64(1280.0), np.float64(1365.3333333333333), np.float64(1450.6666666666667), np.float64(1536.0), np.float64(1621.3333333333333), np.float64(1706.6666666666667), np.float64(1792.0), np.float64(1877.3333333333333), np.float64(1962.6666666666667), np.float64(2048.0), np.float64(2133.3333333333335), np.float64(2218.6666666666665), np.float64(2304.0), np.float64(2389.3333333333335), np.float64(2474.6666666666665), np.float64(2560.0), np.float64(2645.3333333333335), np.float64(2730.6666666666665), np.float64(2901.3333333333335)]\n",
      "encoder_self_attention_heads_avg: Length: 18 [np.float64(2.0), np.float64(2.3333333333333335), np.float64(2.6666666666666665), np.float64(3.0), np.float64(3.3333333333333335), np.float64(3.6666666666666665), np.float64(4.0), np.float64(4.333333333333333), np.float64(4.666666666666667), np.float64(5.0), np.float64(5.333333333333333), np.float64(5.666666666666667), np.float64(6.0), np.float64(6.333333333333333), np.float64(6.666666666666667), np.float64(7.0), np.float64(7.333333333333333), np.float64(8.0)]\n",
      "decoder_embed_dim: Length: 2 [np.int64(512), np.int64(640)]\n",
      "decoder_layer_num: Length: 6 [np.int64(1), np.int64(2), np.int64(3), np.int64(4), np.int64(5), np.int64(6)]\n",
      "decoder_ffn_embed_dim_avg: Length: 55 [np.float64(512.0), np.float64(597.3333333333334), np.float64(614.4), np.float64(640.0), np.float64(682.6666666666666), np.float64(716.8), np.float64(768.0), np.float64(819.2), np.float64(853.3333333333334), np.float64(896.0), np.float64(921.6), np.float64(938.6666666666666), np.float64(1024.0), np.float64(1109.3333333333333), np.float64(1126.4), np.float64(1152.0), np.float64(1194.6666666666667), np.float64(1228.8), np.float64(1280.0), np.float64(1331.2), np.float64(1365.3333333333333), np.float64(1408.0), np.float64(1433.6), np.float64(1450.6666666666667), np.float64(1536.0), np.float64(1621.3333333333333), np.float64(1638.4), np.float64(1664.0), np.float64(1706.6666666666667), np.float64(1740.8), np.float64(1792.0), np.float64(1843.2), np.float64(1877.3333333333333), np.float64(1920.0), np.float64(1945.6), np.float64(1962.6666666666667), np.float64(2048.0), np.float64(2133.3333333333335), np.float64(2150.4), np.float64(2176.0), np.float64(2218.6666666666665), np.float64(2252.8), np.float64(2304.0), np.float64(2355.2), np.float64(2389.3333333333335), np.float64(2432.0), np.float64(2457.6), np.float64(2474.6666666666665), np.float64(2560.0), np.float64(2645.3333333333335), np.float64(2662.4), np.float64(2730.6666666666665), np.float64(2816.0), np.float64(2867.2), np.float64(3072.0)]\n",
      "decoder_self_attention_heads_avg: Length: 34 [np.float64(2.0), np.float64(2.3333333333333335), np.float64(2.4), np.float64(2.5), np.float64(2.6666666666666665), np.float64(2.8), np.float64(3.0), np.float64(3.2), np.float64(3.3333333333333335), np.float64(3.5), np.float64(3.6), np.float64(3.6666666666666665), np.float64(4.0), np.float64(4.333333333333333), np.float64(4.4), np.float64(4.5), np.float64(4.666666666666667), np.float64(4.8), np.float64(5.0), np.float64(5.2), np.float64(5.333333333333333), np.float64(5.5), np.float64(5.6), np.float64(5.666666666666667), np.float64(6.0), np.float64(6.333333333333333), np.float64(6.4), np.float64(6.5), np.float64(6.666666666666667), np.float64(6.8), np.float64(7.0), np.float64(7.2), np.float64(7.333333333333333), np.float64(8.0)]\n",
      "decoder_ende_attention_heads_avg: Length: 33 [np.float64(2.0), np.float64(2.3333333333333335), np.float64(2.4), np.float64(2.5), np.float64(2.6666666666666665), np.float64(2.8), np.float64(3.0), np.float64(3.2), np.float64(3.3333333333333335), np.float64(3.5), np.float64(3.6), np.float64(3.6666666666666665), np.float64(4.0), np.float64(4.333333333333333), np.float64(4.4), np.float64(4.5), np.float64(4.666666666666667), np.float64(4.8), np.float64(5.0), np.float64(5.2), np.float64(5.333333333333333), np.float64(5.5), np.float64(5.6), np.float64(5.666666666666667), np.float64(6.0), np.float64(6.333333333333333), np.float64(6.4), np.float64(6.5), np.float64(6.666666666666667), np.float64(6.8), np.float64(7.0), np.float64(7.2), np.float64(8.0)]\n",
      "decoder_arbitrary_ende_attn_avg: Length: 25 [np.float64(1.0), np.float64(1.1666666666666667), np.float64(1.2), np.float64(1.25), np.float64(1.3333333333333333), np.float64(1.4), np.float64(1.5), np.float64(1.6), np.float64(1.6666666666666667), np.float64(1.75), np.float64(1.8), np.float64(1.8333333333333333), np.float64(2.0), np.float64(2.1666666666666665), np.float64(2.2), np.float64(2.25), np.float64(2.3333333333333335), np.float64(2.4), np.float64(2.5), np.float64(2.6), np.float64(2.6666666666666665), np.float64(2.75), np.float64(2.8), np.float64(2.8333333333333335), np.float64(3.0)]\n"
     ]
    }
   ],
   "source": [
    "import pandas as pd\n",
    "\n",
    "# Path to your CSV file.\n",
    "filepath = \"surrogate_benchmark_project/evo_search/datasets/iwslt14deen_gpu_titanxp_all.csv\"\n",
    "\n",
    "# Read the CSV into a DataFrame.\n",
    "df = pd.read_csv(filepath)\n",
    "\n",
    "# List of design parameter columns (excluding performance metrics).\n",
    "# In your CSV, these are the first 10 columns.\n",
    "design_columns = [\n",
    "    \"encoder_embed_dim\",\n",
    "    \"encoder_layer_num\",\n",
    "    \"encoder_ffn_embed_dim_avg\",\n",
    "    \"encoder_self_attention_heads_avg\",\n",
    "    \"decoder_embed_dim\",\n",
    "    \"decoder_layer_num\",\n",
    "    \"decoder_ffn_embed_dim_avg\",\n",
    "    \"decoder_self_attention_heads_avg\",\n",
    "    \"decoder_ende_attention_heads_avg\",\n",
    "    \"decoder_arbitrary_ende_attn_avg\"\n",
    "]\n",
    "\n",
    "print(\"Design Parameter Domains:\")\n",
    "print(\"===========================\")\n",
    "for col in design_columns:\n",
    "    # Get unique values for the column and sort them.\n",
    "    unique_vals = sorted(df[col].unique())\n",
    "    print(f\"{col}: Length: {len(unique_vals)} {unique_vals}\")"
   ]
  },
  {
   "cell_type": "code",
   "execution_count": null,
   "metadata": {},
   "outputs": [],
   "source": []
  }
 ],
 "metadata": {
  "kernelspec": {
   "display_name": ".venv",
   "language": "python",
   "name": "python3"
  },
  "language_info": {
   "codemirror_mode": {
    "name": "ipython",
    "version": 3
   },
   "file_extension": ".py",
   "mimetype": "text/x-python",
   "name": "python",
   "nbconvert_exporter": "python",
   "pygments_lexer": "ipython3",
   "version": "3.9.6"
  }
 },
 "nbformat": 4,
 "nbformat_minor": 2
}
